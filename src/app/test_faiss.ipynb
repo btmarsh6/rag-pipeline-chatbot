{
 "cells": [
  {
   "cell_type": "code",
   "execution_count": 27,
   "metadata": {},
   "outputs": [],
   "source": [
    "from haystack import Document\n",
    "from haystack.document_stores import FAISSDocumentStore\n",
    "from haystack.nodes import DensePassageRetriever, AnswerParser, PromptNode, PromptTemplate\n",
    "from haystack import Pipeline\n",
    "import os\n",
    "import pandas as pd"
   ]
  },
  {
   "cell_type": "code",
   "execution_count": 28,
   "metadata": {},
   "outputs": [],
   "source": [
    "from dotenv import load_dotenv\n",
    "load_dotenv(\".env\")\n",
    "openai_key = os.getenv(\"OPENAI_API_KEY\")"
   ]
  },
  {
   "cell_type": "code",
   "execution_count": 38,
   "metadata": {},
   "outputs": [],
   "source": [
    "\n",
    "def initialize_documents(file_path):\n",
    "    \"\"\"\n",
    "    Casts recipes from prepared recipe_docs.csv file into document structure for Haystack.\n",
    "\n",
    "    Args:\n",
    "        file_path (str): location of recipe_docs.csv file\n",
    "    Returns:\n",
    "        documents ()\n",
    "    \"\"\"\n",
    "    # Load data\n",
    "    df = pd.read_csv(file_path)    \n",
    "\n",
    "    if \"question\" not in df or  \"answer\" not in df:\n",
    "            raise ValueError(\"The CSV must contain two columns named 'question' and 'answer'\")    \n",
    "\n",
    "    df = df.rename(columns={\"answer\": \"content\"})\n",
    "    \n",
    "    docs_dicts = df.to_dict(orient=\"records\")\n",
    "\n",
    "    docs = []\n",
    "    for dictionary in docs_dicts:            \n",
    "        docs.append(Document.from_dict(dictionary))\n",
    "\n",
    "    return docs\n"
   ]
  },
  {
   "cell_type": "code",
   "execution_count": 39,
   "metadata": {},
   "outputs": [],
   "source": [
    "def initialize_faiss_document_store(documents):\n",
    "    \"\"\"\n",
    "    Initialize FAISS document store and retriever.\n",
    "    Args:\n",
    "        documents (list): List of documents to be stored in document store.\n",
    "    Returns:\n",
    "        document_store (FAISSDocumentStore): FAISS document store.\n",
    "        retriever (DensePassageRetriever): Dense passage retriever\n",
    "    \"\"\"\n",
    "    # Initialize DocumentStore\n",
    "    document_store = FAISSDocumentStore(faiss_index_factory_str='Flat', return_embedding=True)\n",
    "\n",
    "    # Initialize Retriever\n",
    "    retriever = DensePassageRetriever(\n",
    "        document_store=document_store,\n",
    "        query_embedding_model=\"facebook/dpr-question_encoder-single-nq-base\",\n",
    "        passage_embedding_model=\"facebook/dpr-ctx_encoder-single-nq-base\",\n",
    "        use_gpu=False,\n",
    "        embed_title=True\n",
    "        )\n",
    "\n",
    "    # Delete existing documents in document store\n",
    "    document_store.delete_documents()\n",
    "    document_store.write_documents(documents)\n",
    "\n",
    "    # Add documents embeddings to index\n",
    "    document_store.update_embeddings(retriever=retriever)\n",
    "\n",
    "    return document_store, retriever"
   ]
  },
  {
   "cell_type": "code",
   "execution_count": 40,
   "metadata": {},
   "outputs": [],
   "source": [
    "documents = initialize_documents('data/recipes_prepared_100.csv')\n"
   ]
  },
  {
   "cell_type": "code",
   "execution_count": 41,
   "metadata": {},
   "outputs": [
    {
     "data": {
      "text/plain": [
       "100"
      ]
     },
     "execution_count": 41,
     "metadata": {},
     "output_type": "execute_result"
    }
   ],
   "source": [
    "len(documents)"
   ]
  },
  {
   "cell_type": "code",
   "execution_count": 42,
   "metadata": {},
   "outputs": [
    {
     "name": "stdout",
     "output_type": "stream",
     "text": [
      "Ingredients:winter squash, mexican seasoning, mixed spice, honey, butter, olive oil, salt\n",
      "Steps:1 make a choice and proceed with recipe \\n 2 depending on size of squash , cut into half or fourths \\n 3 remove seeds \\n 4 for spicy squash , drizzle olive oil or melted butter over each cut squash piece \\n 5 season with mexican seasoning mix ii \\n 6 for sweet squash , drizzle melted honey , butter , grated piloncillo over each cut squash piece \\n 7 season with sweet mexican spice mix \\n 8 bake at 350 degrees , again depending on size , for 40 minutes up to an hour , until a fork can easily pierce the skin \\n 9 be careful not to burn the squash especially if you opt to use sugar or butter \\n 10 if you feel more comfortable , cover the squash with aluminum foil the first half hour , give or take , of baking \\n 11 if desired , season with salt \\n \n",
      "<Document: id=137739, content='Ingredients:winter squash, mexican seasoning, mixed spice, honey, butter, olive oil, salt\n",
      "Steps:1 ma...'>\n"
     ]
    }
   ],
   "source": [
    "print(documents[0].content)\n",
    "print(documents[0])"
   ]
  },
  {
   "cell_type": "code",
   "execution_count": 43,
   "metadata": {},
   "outputs": [
    {
     "name": "stderr",
     "output_type": "stream",
     "text": [
      "c:\\workspace\\rag-pipeline-chatbot\\.venv\\Lib\\site-packages\\torch\\_utils.py:831: UserWarning: TypedStorage is deprecated. It will be removed in the future and UntypedStorage will be the only storage class. This should only matter to you if you are using storages directly.  To access UntypedStorage directly, use tensor.untyped_storage() instead of tensor.storage()\n",
      "  return self.fget.__get__(instance, owner)()\n",
      "Writing Documents: 10000it [00:00, 30274.86it/s]          \n",
      "Documents Processed: 10000 docs [00:17, 582.03 docs/s]         \n"
     ]
    }
   ],
   "source": [
    "document_store, retriever = initialize_faiss_document_store(documents=documents)\n"
   ]
  },
  {
   "cell_type": "code",
   "execution_count": 68,
   "metadata": {},
   "outputs": [],
   "source": [
    "def initialize_rag_pipeline(retriever, openai_key):\n",
    "    \"\"\"\n",
    "    Initialize a pipeline for RAG-based chatbot.\n",
    "    Args:\n",
    "        retriever (DensePassageRetriever): Dense passage retriever.\n",
    "        openai_key (str): API key for OpenAI.\n",
    "    Returns:\n",
    "        query_pipeline (Pipeline): Pipeline for RAG-based question answering.\n",
    "    \"\"\"\n",
    "    prompt_template = PromptTemplate(prompt=\"\"\"\"Generate the recipe Steps by the Ingredients and follow the similar order as provided in the Examples\\n\n",
    "                                                Ingredients: {query}\\n\n",
    "                                                Examples: {join(documents)}\n",
    "                                                Steps:\n",
    "                                            \"\"\",\n",
    "                                            output_parser=AnswerParser())\n",
    "    prompt_node = PromptNode(model_name_or_path=\"gpt-3.5-turbo\",\n",
    "                             api_key=openai_key,\n",
    "                             default_prompt_template=prompt_template,\n",
    "                             max_length=500,\n",
    "                             model_kwargs={\"stream\": True})\n",
    "\n",
    "    query_pipeline = Pipeline()\n",
    "    query_pipeline.add_node(component=retriever, name=\"Retriever\", inputs=[\"Query\"])\n",
    "    #query_pipeline.add_node(component=prompt_node, name=\"PromptNode\", inputs=[\"Retriever\"])\n",
    "\n",
    "    return query_pipeline"
   ]
  },
  {
   "cell_type": "code",
   "execution_count": 69,
   "metadata": {},
   "outputs": [],
   "source": [
    "query_pipeline = initialize_rag_pipeline(retriever=retriever, openai_key=openai_key)\n"
   ]
  },
  {
   "cell_type": "code",
   "execution_count": 71,
   "metadata": {},
   "outputs": [
    {
     "data": {
      "text/plain": [
       "{'documents': [<Document: {'content': 'Ingredients:light olive oil, red wine vinegar, garlic, salt, fresh basil, black pepper, white kidney beans, albacore tuna in water, scallions, red sweet bell peppers, bibb lettuce\\nSteps:1 in salad bowl , combine oil , vinegar , garlic , salt , basil and black pepper \\\\n 2 add beans , tuna , scallions and sweet pepper and toss \\\\n 3 chill several hours for flavors to blend \\\\n 4 to make a beautiful presentation , serve on a leaf of bibb lettuce \\\\n ', 'content_type': 'text', 'score': 0.6877535773225946, 'meta': {'name': 'put down your fork   tuna and bean salad', 'minutes': 120, 'contributor_id': 178452, 'submitted': '2005-01-19', 'tags': 'time-to-make, main-ingredient, preparation, seafood, easy, beginner-cook, fish, dietary, low-cholesterol, low-saturated-fat, low-calorie, low-carb, tuna, healthy-2, low-in-something, saltwater-fish, presentation, served-cold, 4-hours-or-less', 'nutrition': '227.2 calories, 14.0% total fat, 8.0% sugar, 29.0% sodium, 40.0% protein, 7.0% saturated fat, ', 'n_steps': 4, 'steps': '1 in salad bowl , combine oil , vinegar , garlic , salt , basil and black pepper \\\\n 2 add beans , tuna , scallions and sweet pepper and toss \\\\n 3 chill several hours for flavors to blend \\\\n 4 to make a beautiful presentation , serve on a leaf of bibb lettuce \\\\n ', 'description': 'the story behind this comes from a simple recipe i had found, then made changes to make our own. my husband loved it so much the first time i made it i literally had to say to him ', 'ingredients': 'light olive oil, red wine vinegar, garlic, salt, fresh basil, black pepper, white kidney beans, albacore tuna in water, scallions, red sweet bell peppers, bibb lettuce', 'n_ingredients': 11, 'recipe_id': 108804, 'rating': 4.6, 'vector_id': '6'}, 'id_hash_keys': ['content'], 'embedding': '<embedding of shape (768,)>', 'id': '108804'}>,\n",
       "  <Document: {'content': 'Ingredients:ground beef, yellow onions, diced tomatoes, tomato paste, tomato soup, rotel tomatoes, kidney beans, water, chili powder, ground cumin, salt, lettuce, cheddar cheese\\nSteps:1 brown ground beef in large pot \\\\n 2 add chopped onions to ground beef when almost brown and sautee until wilted \\\\n 3 add all other ingredients \\\\n 4 add kidney beans if you like beans in your chili \\\\n 5 cook in slow cooker on high for 2-3 hours or 6-8 hours on low \\\\n 6 serve with cold clean lettuce and shredded cheese \\\\n ', 'content_type': 'text', 'score': 0.6827686119544282, 'meta': {'name': 'all in the kitchen  chili', 'minutes': 130, 'contributor_id': 196586, 'submitted': '2005-02-25', 'tags': 'time-to-make, course, preparation, main-dish, chili, crock-pot-slow-cooker, dietary, equipment, 4-hours-or-less', 'nutrition': '269.8 calories, 22.0% total fat, 32.0% sugar, 48.0% sodium, 39.0% protein, 27.0% saturated fat, ', 'n_steps': 6, 'steps': '1 brown ground beef in large pot \\\\n 2 add chopped onions to ground beef when almost brown and sautee until wilted \\\\n 3 add all other ingredients \\\\n 4 add kidney beans if you like beans in your chili \\\\n 5 cook in slow cooker on high for 2-3 hours or 6-8 hours on low \\\\n 6 serve with cold clean lettuce and shredded cheese \\\\n ', 'description': \"this modified version of 'mom's' chili was a hit at our 2004 christmas party. we made an extra large pot to have some left to freeze but it never made it to the freezer. it was a favorite by all. perfect for any cold and rainy day. you won't find this one in a cookbook. it is truly an original.\", 'ingredients': 'ground beef, yellow onions, diced tomatoes, tomato paste, tomato soup, rotel tomatoes, kidney beans, water, chili powder, ground cumin, salt, lettuce, cheddar cheese', 'n_ingredients': 13, 'recipe_id': 112140, 'rating': 4.0, 'vector_id': '9'}, 'id_hash_keys': ['content'], 'embedding': '<embedding of shape (768,)>', 'id': '112140'}>,\n",
       "  <Document: {'content': 'Ingredients:canola oil, onion, garlic, cauliflower, potatoes, vegetable bouillon cubes, water, salt free herb and spice seasoning mix, ground coriander, great northern bean, salt and pepper, broccoli floret, escarole, green peas, red bell pepper, fresh herb\\nSteps:1 heat the oil or margarine in a soup pot and add the onion and garlic \\\\n 2 saute over medium heat until the onion is golden , about 10 minutes \\\\n 3 add the cauliflower , potatoes , water , and seasonings \\\\n 4 there should be enough broth to cover all but about an inch of the veggies \\\\n 5 bring to a simmer , then simmer gently covered until the veggies are tender , about 25 minutes \\\\n 6 remove from the heat transfer the vegetables from the soup pot to a food processor or blender and puree in batches until smooth \\\\n 7 puree about half of the beans with each of the two batches of vegetables \\\\n 8 transfer the puree back into the soup pot , stirring it back into whatever liquid remained \\\\n 9 let the soup stand for 1-2 hours before serving , then heat through as needed \\\\n 10 ladle into soup bowls and garnish the tops with 2-3 garnishes \\\\n ', 'content_type': 'text', 'score': 0.6825570715680415, 'meta': {'name': 'cream  of cauliflower soup  vegan', 'minutes': 110, 'contributor_id': 3288, 'submitted': '2002-03-28', 'tags': 'lactose, weeknight, time-to-make, course, main-ingredient, cuisine, preparation, occasion, north-american, bisques-cream-soups, soups-stews, potatoes, vegetables, american, spring, vegan, vegetarian, food-processor-blender, stove-top, dietary, seasonal, free-of-something, cauliflower, equipment, small-appliance, 4-hours-or-less', 'nutrition': '174.2 calories, 4.0% total fat, 24.0% sugar, 1.0% sodium, 15.0% protein, 1.0% saturated fat, ', 'n_steps': 10, 'steps': '1 heat the oil or margarine in a soup pot and add the onion and garlic \\\\n 2 saute over medium heat until the onion is golden , about 10 minutes \\\\n 3 add the cauliflower , potatoes , water , and seasonings \\\\n 4 there should be enough broth to cover all but about an inch of the veggies \\\\n 5 bring to a simmer , then simmer gently covered until the veggies are tender , about 25 minutes \\\\n 6 remove from the heat transfer the vegetables from the soup pot to a food processor or blender and puree in batches until smooth \\\\n 7 puree about half of the beans with each of the two batches of vegetables \\\\n 8 transfer the puree back into the soup pot , stirring it back into whatever liquid remained \\\\n 9 let the soup stand for 1-2 hours before serving , then heat through as needed \\\\n 10 ladle into soup bowls and garnish the tops with 2-3 garnishes \\\\n ', 'description': 'this is a dairy free ', 'ingredients': 'canola oil, onion, garlic, cauliflower, potatoes, vegetable bouillon cubes, water, salt free herb and spice seasoning mix, ground coriander, great northern bean, salt and pepper, broccoli floret, escarole, green peas, red bell pepper, fresh herb', 'n_ingredients': 16, 'recipe_id': 23850, 'rating': 5.0, 'vector_id': '15'}, 'id_hash_keys': ['content'], 'embedding': '<embedding of shape (768,)>', 'id': '23850'}>,\n",
       "  <Document: {'content': 'Ingredients:onion, scallion, apple juice, olive oil, spinach, fresh parsley, celery, broth, rolled oats, salt, dried thyme, white pepper\\nSteps:1 in a 3 qt saucepan over medium high heat , saute the onions and scallions in the apple juice and oil for 5 minutes , stirring frequently \\\\n 2 add the spinach , parsley and celery \\\\n 3 cook for 5-7 minutes , stirring occasionally add the broth , oats , salt , thyme and pepper \\\\n 4 bring to a boil , then lower the heat to medium \\\\n 5 cover and simmer for 20 minutes \\\\n 6 remove from the heat \\\\n 7 let the soup cool for 10 minutes \\\\n 8 working in batches , puree in a blender until thick and smooth \\\\n 9 return to the pot \\\\n 10 reheat and serve \\\\n ', 'content_type': 'text', 'score': 0.682268488856966, 'meta': {'name': 'cream  of spinach soup  vegan', 'minutes': 55, 'contributor_id': 3288, 'submitted': '2002-04-08', 'tags': '60-minutes-or-less, time-to-make, course, main-ingredient, preparation, occasion, bisques-cream-soups, main-dish, soups-stews, vegetables, vegan, vegetarian, stove-top, dietary, one-dish-meal, low-cholesterol, low-saturated-fat, low-calorie, comfort-food, low-in-something, taste-mood, equipment', 'nutrition': '64.8 calories, 3.0% total fat, 13.0% sugar, 54.0% sodium, 4.0% protein, 2.0% saturated fat, ', 'n_steps': 10, 'steps': '1 in a 3 qt saucepan over medium high heat , saute the onions and scallions in the apple juice and oil for 5 minutes , stirring frequently \\\\n 2 add the spinach , parsley and celery \\\\n 3 cook for 5-7 minutes , stirring occasionally add the broth , oats , salt , thyme and pepper \\\\n 4 bring to a boil , then lower the heat to medium \\\\n 5 cover and simmer for 20 minutes \\\\n 6 remove from the heat \\\\n 7 let the soup cool for 10 minutes \\\\n 8 working in batches , puree in a blender until thick and smooth \\\\n 9 return to the pot \\\\n 10 reheat and serve \\\\n ', 'description': 'thickened with a mix of cooked oats and vegies, this soup has all the flavor of the original with a fraction of the fat stuff. low in cholestorol too!', 'ingredients': 'onion, scallion, apple juice, olive oil, spinach, fresh parsley, celery, broth, rolled oats, salt, dried thyme, white pepper', 'n_ingredients': 12, 'recipe_id': 24701, 'rating': 2.0, 'vector_id': '18'}, 'id_hash_keys': ['content'], 'embedding': '<embedding of shape (768,)>', 'id': '24701'}>,\n",
       "  <Document: {'content': 'Ingredients:elbow macaroni, green pepper, onion, celery, fresh tomato, cucumber, oil, brown sugar, lemon juice, ketchup\\nSteps:1 in large mixing bowl , combine your macaroni& diced veggies \\\\n 2 in another bowl , combine sauce ingredients , blending well \\\\n 3 pour sauce over the macaroni& vegetables \\\\n 4 mix well& chill \\\\n 5 this can be made up to a day before for fullest flavour \\\\n 6 great for a bbq ! \\\\n 7 may be kept 3-4 days in refrigerator \\\\n ', 'content_type': 'text', 'score': 0.6821137972901355, 'meta': {'name': 'red  macaroni salad', 'minutes': 1470, 'contributor_id': 82367, 'submitted': '2003-06-11', 'tags': 'weeknight, time-to-make, course, main-ingredient, preparation, healthy, salads, side-dishes, pasta, 1-day-or-more, dietary, low-sodium, low-cholesterol, healthy-2, low-in-something, pasta-rice-and-grains, elbow-macaroni', 'nutrition': '572.6 calories, 43.0% total fat, 113.0% sugar, 11.0% sodium, 17.0% protein, 18.0% saturated fat, ', 'n_steps': 7, 'steps': '1 in large mixing bowl , combine your macaroni& diced veggies \\\\n 2 in another bowl , combine sauce ingredients , blending well \\\\n 3 pour sauce over the macaroni& vegetables \\\\n 4 mix well& chill \\\\n 5 this can be made up to a day before for fullest flavour \\\\n 6 great for a bbq ! \\\\n 7 may be kept 3-4 days in refrigerator \\\\n ', 'description': 'this is not your usual macaroni salad....there is no miracle whip in this. when i first saw it i was a little put off because of the looks of it, but was sooo surprised when i tasted it!!glad i did! tasty & a nice change.(i put 1 day for cook time as this is best made ahead of time,i am guessing on servings also as it depends on the appetites and the venue!)', 'ingredients': 'elbow macaroni, green pepper, onion, celery, fresh tomato, cucumber, oil, brown sugar, lemon juice, ketchup', 'n_ingredients': 10, 'recipe_id': 64302, 'rating': 3.5, 'vector_id': '71'}, 'id_hash_keys': ['content'], 'embedding': '<embedding of shape (768,)>', 'id': '64302'}>,\n",
       "  <Document: {'content': 'Ingredients:frozen chopped spinach, eggs, garlic powder, soft breadcrumbs, oregano, margarine, sage, onion\\nSteps:1 combine all ingredients in a large bowl and mix well \\\\n 2 shape into one-inch balls \\\\n 3 cover and refrigerate or freeze until ready to bake \\\\n 4 preheat oven to 350 degrees \\\\n 5 place on ungreased baking sheet and bake until light brown \\\\n ', 'content_type': 'text', 'score': 0.6820940444241248, 'meta': {'name': 'i can t believe it s spinach', 'minutes': 30, 'contributor_id': 1533, 'submitted': '2002-08-29', 'tags': '30-minutes-or-less, time-to-make, course, main-ingredient, preparation, appetizers, side-dishes, vegetables, oven, refrigerator, freezer, dietary, oamc-freezer-make-ahead, low-carb, low-in-something, equipment, number-of-servings', 'nutrition': '53.8 calories, 5.0% total fat, 2.0% sugar, 3.0% sodium, 3.0% protein, 3.0% saturated fat, ', 'n_steps': 5, 'steps': '1 combine all ingredients in a large bowl and mix well \\\\n 2 shape into one-inch balls \\\\n 3 cover and refrigerate or freeze until ready to bake \\\\n 4 preheat oven to 350 degrees \\\\n 5 place on ungreased baking sheet and bake until light brown \\\\n ', 'description': 'these were so go, it surprised even me.', 'ingredients': 'frozen chopped spinach, eggs, garlic powder, soft breadcrumbs, oregano, margarine, sage, onion', 'n_ingredients': 8, 'recipe_id': 38798, 'rating': 3.7, 'vector_id': '38'}, 'id_hash_keys': ['content'], 'embedding': '<embedding of shape (768,)>', 'id': '38798'}>,\n",
       "  <Document: {'content': 'Ingredients:tomatoes, crackers, mayonnaise, black pepper\\nSteps:1 put a slice of tomato on each biscuit / cracker \\\\n 2 smear with little mayo and sprinkle black pepper \\\\n 3 munch without guilt ! \\\\n ', 'content_type': 'text', 'score': 0.6813307090508559, 'meta': {'name': 'munch without guilt  tomatoes', 'minutes': 10, 'contributor_id': 6164, 'submitted': '2002-06-04', 'tags': '15-minutes-or-less, time-to-make, course, main-ingredient, cuisine, preparation, occasion, low-protein, healthy, 5-ingredients-or-less, appetizers, salads, vegetables, asian, indian, easy, no-cook, beginner-cook, diabetic, dinner-party, holiday-event, kid-friendly, low-fat, picnic, vegetarian, dietary, low-sodium, low-cholesterol, low-saturated-fat, low-calorie, comfort-food, low-carb, healthy-2, low-in-something, taste-mood, to-go, number-of-servings, 3-steps-or-less, technique', 'nutrition': '3.0 calories, 0.0% total fat, 1.0% sugar, 0.0% sodium, 0.0% protein, 0.0% saturated fat, ', 'n_steps': 3, 'steps': '1 put a slice of tomato on each biscuit / cracker \\\\n 2 smear with little mayo and sprinkle black pepper \\\\n 3 munch without guilt ! \\\\n ', 'description': 'anytime munchies...another sweat free preparation for all of you !', 'ingredients': 'tomatoes, crackers, mayonnaise, black pepper', 'n_ingredients': 4, 'recipe_id': 30300, 'rating': 5.0, 'vector_id': '25'}, 'id_hash_keys': ['content'], 'embedding': '<embedding of shape (768,)>', 'id': '30300'}>,\n",
       "  <Document: {'content': 'Ingredients:ciabatta, provolone cheese, genoa salami, ham, tomatoes, sweet onion, green olives, kalamata olive, fresh basil, capers, garlic, brine, oregano leaves, olive oil, red wine vinegar, fresh parsley, carrot\\nSteps:1 mix everything in food processor \\\\n 2 chop fine for spread \\\\n 3 refrigerate until ready to use \\\\n ', 'content_type': 'text', 'score': 0.680728206827632, 'meta': {'name': 'my muffuletta sandwich', 'minutes': 20, 'contributor_id': 12875, 'submitted': '2003-12-12', 'tags': '30-minutes-or-less, time-to-make, course, main-ingredient, cuisine, preparation, occasion, lunch, pork, easy, european, finger-food, italian, sandwiches, meat, novelty, presentation, 3-steps-or-less', 'nutrition': '181.1 calories, 26.0% total fat, 6.0% sugar, 17.0% sodium, 2.0% protein, 11.0% saturated fat, ', 'n_steps': 3, 'steps': '1 mix everything in food processor \\\\n 2 chop fine for spread \\\\n 3 refrigerate until ready to use \\\\n ', 'description': 'watched a documentary about the ', 'ingredients': 'ciabatta, provolone cheese, genoa salami, ham, tomatoes, sweet onion, green olives, kalamata olive, fresh basil, capers, garlic, brine, oregano leaves, olive oil, red wine vinegar, fresh parsley, carrot', 'n_ingredients': 17, 'recipe_id': 78655, 'rating': 4.0, 'vector_id': '81'}, 'id_hash_keys': ['content'], 'embedding': '<embedding of shape (768,)>', 'id': '78655'}>,\n",
       "  <Document: {'content': 'Ingredients:lean pork chops, flour, salt, dry mustard, garlic powder, oil, chicken rice soup\\nSteps:1 dredge pork chops in mixture of flour , salt , dry mustard and garlic powder \\\\n 2 brown in oil in a large skillet \\\\n 3 place browned pork chops in a crock pot \\\\n 4 add the can of soup , undiluted \\\\n 5 cover and cook on low for 6-8 hours \\\\n ', 'content_type': 'text', 'score': 0.6800008671304026, 'meta': {'name': 'chicken lickin  good  pork chops', 'minutes': 500, 'contributor_id': 14664, 'submitted': '2003-06-06', 'tags': 'weeknight, time-to-make, course, main-ingredient, preparation, main-dish, pork, crock-pot-slow-cooker, dietary, meat, pork-chops, equipment', 'nutrition': '105.7 calories, 8.0% total fat, 0.0% sugar, 26.0% sodium, 5.0% protein, 4.0% saturated fat, ', 'n_steps': 5, 'steps': '1 dredge pork chops in mixture of flour , salt , dry mustard and garlic powder \\\\n 2 brown in oil in a large skillet \\\\n 3 place browned pork chops in a crock pot \\\\n 4 add the can of soup , undiluted \\\\n 5 cover and cook on low for 6-8 hours \\\\n ', 'description': \"here's and old standby i enjoy from time to time. it's from an old newspaper clipping i cut out years ago. very tasty.\", 'ingredients': 'lean pork chops, flour, salt, dry mustard, garlic powder, oil, chicken rice soup', 'n_ingredients': 7, 'recipe_id': 63986, 'rating': 4.4, 'vector_id': '69'}, 'id_hash_keys': ['content'], 'embedding': '<embedding of shape (768,)>', 'id': '63986'}>,\n",
       "  <Document: {'content': 'Ingredients:carrots, butter, onion, sliced mushrooms, zucchini, celery, green pepper, cloves, tomatoes, chili powder, ground cumin, oregano, cayenne pepper, flour, water, monterey jack cheese, salt, all-purpose flour, baking powder, vegetable shortening, soy sauce, egg\\nSteps:1 in a pot , cover carrots with water to cover \\\\n 2 bring to a boil , then lower heat \\\\n 3 simmer 10 minutes or until just tender \\\\n 4 while simmering carrots , pour contents of can of tomatoes into a bowl and squish into little pieces with your hands \\\\n 5 wash hands \\\\n 6 blend chili powder , cumin , oregano , and cayenne into tomatoes \\\\n 7 take the 2 tbs of flour and blend with 1 / 4 cup cold water in a small cup \\\\n 8 pour this into tomato mixture and stir to blend \\\\n 9 drain carrots , and cut into 3 / 4 in pieces \\\\n 10 put both aside for now \\\\n 11 melt butter on medium heat in a large fring pan \\\\n 12 add onion , mushrooms , zucchini , celery , green pepper , and garlic and saute \\\\n 13 stir continuously until onion is limp \\\\n 14 stir tomato mixture into frying pan and bring to a simmer \\\\n 15 cover and simmer for 2 or 3 minutes , then uncover and cook for about 5 minutes over med-high heat until liquid has evaporated \\\\n 16 stir in carrots and cheese \\\\n 17 salt to taste \\\\n 18 when cheese has melted put pan in refrigerator to quickly cool vegetables \\\\n 19 stir now and then to help cool faster \\\\n 20 now , begin empanada crust \\\\n 21 resift flour with baking powder in a bowl \\\\n 22 quickly cut butter and shortening into bowl until it looks like a coarse meal \\\\n 23 make a well in the center \\\\n 24 add soy sauce and cold water together \\\\n 25 stir vigorously with a fork until dough follows the fork around bowl \\\\n 26 personal observation: the dough seems rather\"frothy\" at this point \\\\n 27 turn dough onto a lightly floured surface and knead gently for about 10 folds to remove stickyness \\\\n 28 divide dough into 8 equal pieces \\\\n 29 make into a ball and roll into an 8 inch circle \\\\n 30 spoon about 3 / 4 cup vegetable filling onto center of circle \\\\n 31 moisten edges of circle with water and bring together at top , pinching and fluting edges \\\\n 32 mine looked like balls of dough and turned out fine \\\\n 33 lift empanada onto ungreased cookie sheet \\\\n 34 repeat until done \\\\n 35 if you fill more than one cookie sheet put the full one in the refrigerator \\\\n 36 when done , prick the top of each empanada with a fork and brush with egg and water mixture \\\\n 37 if you are going to cook some of them right away , pre-heat oven to 400 and cook 25 to 30 minutes on an ungreased cookie sheet \\\\n 38 take the ones for later and freeze uncovered on cookie sheet overnight \\\\n 39 when frozen solid wrap in foil or put in freezer bags \\\\n 40 label with instructions: bake uncovered in pre-heated 425 degree oven for 30 minutes \\\\n 41 let cool some before serving \\\\n ', 'content_type': 'text', 'score': 0.6799883826443864, 'meta': {'name': 'now and later  vegetarian empanadas', 'minutes': 90, 'contributor_id': 37640, 'submitted': '2002-08-26', 'tags': 'weeknight, time-to-make, course, main-ingredient, cuisine, preparation, occasion, north-american, lunch, main-dish, vegetables, mexican, vegetarian, dietary, gifts, one-dish-meal, oamc-freezer-make-ahead, number-of-servings, 4-hours-or-less', 'nutrition': '477.1 calories, 36.0% total fat, 24.0% sugar, 21.0% sodium, 26.0% protein, 61.0% saturated fat, ', 'n_steps': 41, 'steps': '1 in a pot , cover carrots with water to cover \\\\n 2 bring to a boil , then lower heat \\\\n 3 simmer 10 minutes or until just tender \\\\n 4 while simmering carrots , pour contents of can of tomatoes into a bowl and squish into little pieces with your hands \\\\n 5 wash hands \\\\n 6 blend chili powder , cumin , oregano , and cayenne into tomatoes \\\\n 7 take the 2 tbs of flour and blend with 1 / 4 cup cold water in a small cup \\\\n 8 pour this into tomato mixture and stir to blend \\\\n 9 drain carrots , and cut into 3 / 4 in pieces \\\\n 10 put both aside for now \\\\n 11 melt butter on medium heat in a large fring pan \\\\n 12 add onion , mushrooms , zucchini , celery , green pepper , and garlic and saute \\\\n 13 stir continuously until onion is limp \\\\n 14 stir tomato mixture into frying pan and bring to a simmer \\\\n 15 cover and simmer for 2 or 3 minutes , then uncover and cook for about 5 minutes over med-high heat until liquid has evaporated \\\\n 16 stir in carrots and cheese \\\\n 17 salt to taste \\\\n 18 when cheese has melted put pan in refrigerator to quickly cool vegetables \\\\n 19 stir now and then to help cool faster \\\\n 20 now , begin empanada crust \\\\n 21 resift flour with baking powder in a bowl \\\\n 22 quickly cut butter and shortening into bowl until it looks like a coarse meal \\\\n 23 make a well in the center \\\\n 24 add soy sauce and cold water together \\\\n 25 stir vigorously with a fork until dough follows the fork around bowl \\\\n 26 personal observation: the dough seems rather\"frothy\" at this point \\\\n 27 turn dough onto a lightly floured surface and knead gently for about 10 folds to remove stickyness \\\\n 28 divide dough into 8 equal pieces \\\\n 29 make into a ball and roll into an 8 inch circle \\\\n 30 spoon about 3 / 4 cup vegetable filling onto center of circle \\\\n 31 moisten edges of circle with water and bring together at top , pinching and fluting edges \\\\n 32 mine looked like balls of dough and turned out fine \\\\n 33 lift empanada onto ungreased cookie sheet \\\\n 34 repeat until done \\\\n 35 if you fill more than one cookie sheet put the full one in the refrigerator \\\\n 36 when done , prick the top of each empanada with a fork and brush with egg and water mixture \\\\n 37 if you are going to cook some of them right away , pre-heat oven to 400 and cook 25 to 30 minutes on an ungreased cookie sheet \\\\n 38 take the ones for later and freeze uncovered on cookie sheet overnight \\\\n 39 when frozen solid wrap in foil or put in freezer bags \\\\n 40 label with instructions: bake uncovered in pre-heated 425 degree oven for 30 minutes \\\\n 41 let cool some before serving \\\\n ', 'description': 'this is from ', 'ingredients': 'carrots, butter, onion, sliced mushrooms, zucchini, celery, green pepper, cloves, tomatoes, chili powder, ground cumin, oregano, cayenne pepper, flour, water, monterey jack cheese, salt, all-purpose flour, baking powder, vegetable shortening, soy sauce, egg', 'n_ingredients': 22, 'recipe_id': 38276, 'rating': 4.2, 'vector_id': '37'}, 'id_hash_keys': ['content'], 'embedding': '<embedding of shape (768,)>', 'id': '38276'}>],\n",
       " 'root_node': 'Query',\n",
       " 'params': {},\n",
       " 'query': 'chicken,lemon,butter',\n",
       " 'node_id': 'Retriever'}"
      ]
     },
     "execution_count": 71,
     "metadata": {},
     "output_type": "execute_result"
    }
   ],
   "source": [
    "query_pipeline.run(\"chicken,lemon,butter\")"
   ]
  }
 ],
 "metadata": {
  "kernelspec": {
   "display_name": "hacktoberfest-env",
   "language": "python",
   "name": "python3"
  },
  "language_info": {
   "codemirror_mode": {
    "name": "ipython",
    "version": 3
   },
   "file_extension": ".py",
   "mimetype": "text/x-python",
   "name": "python",
   "nbconvert_exporter": "python",
   "pygments_lexer": "ipython3",
   "version": "3.11.4"
  }
 },
 "nbformat": 4,
 "nbformat_minor": 2
}
